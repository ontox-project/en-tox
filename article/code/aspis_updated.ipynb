{
 "cells": [
  {
   "cell_type": "markdown",
   "metadata": {},
   "source": [
    "# Workflow for relationship extraction"
   ]
  },
  {
   "cell_type": "markdown",
   "id": "6df2cc51-c411-46b0-ae9f-5cf3a6c61a84",
   "metadata": {},
   "source": [
    "# Literature extraction from PubMed"
   ]
  },
  {
   "cell_type": "code",
   "execution_count": 12,
   "id": "b44bac6f-9c24-40c7-bb85-6c9963372b4a",
   "metadata": {},
   "outputs": [
    {
     "ename": "ModuleNotFoundError",
     "evalue": "No module named 'metapub'",
     "output_type": "error",
     "traceback": [
      "\u001b[0;31m---------------------------------------------------------------------------\u001b[0m",
      "\u001b[0;31mModuleNotFoundError\u001b[0m                       Traceback (most recent call last)",
      "\u001b[1;32m/Users/marie.corradi/Documents/Projects/en-tox/article/code/aspis_updated.ipynb Cell 3\u001b[0m line \u001b[0;36m<cell line: 7>\u001b[0;34m()\u001b[0m\n\u001b[1;32m      <a href='vscode-notebook-cell:/Users/marie.corradi/Documents/Projects/en-tox/article/code/aspis_updated.ipynb#W2sZmlsZQ%3D%3D?line=3'>4</a>\u001b[0m \u001b[39mimport\u001b[39;00m \u001b[39mtime\u001b[39;00m\n\u001b[1;32m      <a href='vscode-notebook-cell:/Users/marie.corradi/Documents/Projects/en-tox/article/code/aspis_updated.ipynb#W2sZmlsZQ%3D%3D?line=4'>5</a>\u001b[0m \u001b[39mfrom\u001b[39;00m \u001b[39mcsv\u001b[39;00m \u001b[39mimport\u001b[39;00m DictReader\n\u001b[0;32m----> <a href='vscode-notebook-cell:/Users/marie.corradi/Documents/Projects/en-tox/article/code/aspis_updated.ipynb#W2sZmlsZQ%3D%3D?line=6'>7</a>\u001b[0m \u001b[39mfrom\u001b[39;00m \u001b[39mmetapub\u001b[39;00m \u001b[39mimport\u001b[39;00m PubMedFetcher \u001b[39m# for Entrez query\u001b[39;00m\n\u001b[1;32m      <a href='vscode-notebook-cell:/Users/marie.corradi/Documents/Projects/en-tox/article/code/aspis_updated.ipynb#W2sZmlsZQ%3D%3D?line=7'>8</a>\u001b[0m \u001b[39mfrom\u001b[39;00m \u001b[39mBio\u001b[39;00m\u001b[39m.\u001b[39;00m\u001b[39mEntrez\u001b[39;00m \u001b[39mimport\u001b[39;00m efetch \u001b[39m# for Entrez query\u001b[39;00m\n\u001b[1;32m      <a href='vscode-notebook-cell:/Users/marie.corradi/Documents/Projects/en-tox/article/code/aspis_updated.ipynb#W2sZmlsZQ%3D%3D?line=8'>9</a>\u001b[0m \u001b[39mfrom\u001b[39;00m \u001b[39mBio\u001b[39;00m \u001b[39mimport\u001b[39;00m Entrez\n",
      "\u001b[0;31mModuleNotFoundError\u001b[0m: No module named 'metapub'"
     ]
    }
   ],
   "source": [
    "# library imports \n",
    "import csv\n",
    "import pandas as pd\n",
    "import time\n",
    "from csv import DictReader\n",
    "\n",
    "from metapub import PubMedFetcher # for Entrez query\n",
    "from Bio.Entrez import efetch # for Entrez query\n",
    "from Bio import Entrez # for Entrez query"
   ]
  },
  {
   "cell_type": "code",
   "execution_count": null,
   "id": "8de26486-ed59-4e4a-b0b6-449ebe6db674",
   "metadata": {},
   "outputs": [],
   "source": [
    "model = \"en_tox\" # model selection\n",
    "Entrez.email = 'A.N.Other@example.com' # replace with own email\n",
    "Entrez.api_key = \"xxx\" # replace with own key\n",
    "# select input data (chemical list with chemical names):\n",
    "datafile = \"ChemicalList.csv\""
   ]
  },
  {
   "cell_type": "markdown",
   "metadata": {},
   "source": [
    "## Retrieve PMIDS"
   ]
  },
  {
   "cell_type": "code",
   "execution_count": null,
   "metadata": {},
   "outputs": [],
   "source": [
    "query = \" AND toxic* AND (human OR Animals, Laboratory OR Disease Models, Animal)\"\n",
    "chemical_list = pd.read_csv(datafile)\n",
    "retmax = 100 # Maximum number of articles to retrieve\n",
    "fetch = PubMedFetcher()\n",
    "aspis = {}\n",
    "for chemical in chemical_list[\"Compound Name\"]:\n",
    "    aspis[\"pmids\"] = fetch.pmids_for_query(chemical + query, retmax=retmax)\n",
    "\n",
    "with open(\"data/aspis_abstracts_updated.csv\", \"w\") as file:\n",
    "    csvwriter = csv.DictWriter(file, aspis.keys())\n",
    "    csvwriter.writeheader()\n",
    "    csvwriter.writerows(aspis)"
   ]
  },
  {
   "cell_type": "code",
   "execution_count": null,
   "id": "bbde0b2f-f695-4d08-893e-15ec7f225422",
   "metadata": {},
   "outputs": [],
   "source": [
    "from ast import literal_eval\n",
    "df_aspis =pd.read_csv(\"data/aspis_abstracts_updated.csv\")\n",
    "df_aspis['pmids'] = df_aspis['pmids'].apply(literal_eval)\n",
    "df_aspis = df_aspis.explode('pmids', ignore_index = True)\n",
    "# Remove duplicates (a same article can be linked to multiple chemicals)\n",
    "df_aspis_nodup = df_aspis.drop_duplicates(subset=['pmids'])\n",
    "df_aspis_nodup\n",
    "\n",
    "aspis_nodup = df_aspis_nodup.to_dict('records')"
   ]
  },
  {
   "cell_type": "markdown",
   "metadata": {},
   "source": [
    "## Retrieve abstracts"
   ]
  },
  {
   "cell_type": "code",
   "execution_count": null,
   "id": "b9a9f3dd-b6a4-410d-aa47-77d07270a74b",
   "metadata": {},
   "outputs": [],
   "source": [
    "# fetch abstracts\n",
    "t0 = time.time()\n",
    "\n",
    "for d in aspis_nodup:\n",
    "    if str(d[\"pmids\"])=='nan':\n",
    "        d[\"abstract\"] = \"\"\n",
    "    else:\n",
    "        try:\n",
    "            d[\"abstract\"] = utils.fetch_abstract(d[\"pmids\"])\n",
    "        except HTTPError:\n",
    "            d[\"abstract\"] = \"HTTPError\"\n",
    "            print(\"HTTPerror\")\n",
    "   \n",
    "t1 = time.time()\n",
    "\n",
    "print(\"Time elapsed:\" + str(t1-t0))\n",
    "\n",
    "# write abstracts to .csv file\n",
    "aspis_nodup = list(aspis_nodup)\n",
    "keys = aspis_nodup[0].keys()\n",
    "\n",
    "with open(\"data/aspis_abstracts_text_updated.csv\", \"w\") as file:\n",
    "    csvwriter = csv.DictWriter(file, keys)\n",
    "    csvwriter.writeheader()\n",
    "    csvwriter.writerows(aspis_nodup)"
   ]
  },
  {
   "cell_type": "code",
   "execution_count": null,
   "id": "3c5bb2a8-5a76-41e2-a1a7-9e95b3bf94a8",
   "metadata": {},
   "outputs": [],
   "source": [
    "aspis = pd.read_csv(\"data/aspis_abstracts_text_updated.csv\")\n",
    "# Convert to right type\n",
    "aspis['pmids'] = aspis['pmids'].astype('Int64')\n",
    "aspis['abstract'] = aspis['abstract'].astype('str')\n",
    "\n",
    "# Get lists of pmids and abstracts text for CREW workflow\n",
    "pmids = aspis['pmids'].tolist()\n",
    "abst = aspis['abstract'].tolist()\n",
    "\n",
    "# transpose to dict\n",
    "abstracts = dict(zip(pmids, abst))"
   ]
  },
  {
   "cell_type": "markdown",
   "id": "bc55fcea-8a3d-4ecb-a7f6-cf461399a803",
   "metadata": {},
   "source": [
    "# NLP on abstracts"
   ]
  },
  {
   "cell_type": "code",
   "execution_count": null,
   "id": "b0da9de2-7a1d-460e-9f78-73d019a82912",
   "metadata": {},
   "outputs": [],
   "source": [
    "## load spaCy models\n",
    "import spacy\n",
    "from spacy.matcher import DependencyMatcher\n",
    "from scispacy.abbreviation import AbbreviationDetector\n",
    "from spacy.pipeline import EntityRuler\n",
    "from scispacy.linking import EntityLinker\n",
    "import utils as utils\n",
    "nlp = spacy.load(\"en_tox\")\n",
    "\n",
    "# add abbreviation detector pipe to spaCy model\n",
    "nlp.add_pipe(\"abbreviation_detector\")"
   ]
  },
  {
   "cell_type": "markdown",
   "metadata": {},
   "source": [
    "## Pre-processing"
   ]
  },
  {
   "cell_type": "code",
   "execution_count": null,
   "id": "0295c455-2e10-4220-870c-e41921c3a427",
   "metadata": {},
   "outputs": [],
   "source": [
    "# Split the text into sentences\n",
    "df = utils.get_df_pmid_sents(nlp, abstracts)\n",
    "#df.to_csv(\"data/aspis_sentences_updated.csv\")"
   ]
  },
  {
   "cell_type": "code",
   "execution_count": null,
   "id": "3d430bf8-7223-4b5a-8676-5adcbfa2c822",
   "metadata": {},
   "outputs": [],
   "source": [
    "# Identify sentences with entities of interest: 2 phenotypes, or a phenotype and a chemical\n",
    "#df = pd.read_csv(\"data/aspis_sentences_updated.csv\")\n",
    "df_pheno = utils.get_df_relations(nlp,\"PHENOTYPE\",\"PHENOTYPE\", df)\n",
    "df_pheno.to_csv(\"data/aspis_relations_pheno_updated.csv\")\n",
    "df_chem = utils.get_df_relations(nlp,\"COMPOUND\",\"PHENOTYPE\", df)\n",
    "df_chem.to_csv(\"data/aspis_relations_chem_updated.csv\")"
   ]
  },
  {
   "cell_type": "code",
   "execution_count": null,
   "id": "250705ee-6406-4551-961f-7d011e93a8a6",
   "metadata": {},
   "outputs": [],
   "source": [
    "# list of causal verbs to use in dependency matcher\n",
    "causal_verbs = ['increase', 'produce', 'cause', \n",
    "                'induce', 'generate', 'effect', \n",
    "                'provoke', 'arouse', 'elicit', 'lead', 'trigger',\n",
    "                'derive', 'associate', 'relate', 'link', \n",
    "                'stem', 'originate', 'lead', 'bring', \n",
    "                'result', 'inhibit', 'elevate', 'diminish']\n",
    "                "
   ]
  },
  {
   "cell_type": "markdown",
   "metadata": {},
   "source": [
    "## Relationships between phenotypes"
   ]
  },
  {
   "cell_type": "code",
   "execution_count": null,
   "id": "8eb94bb2-4816-4d6d-bc20-7d431f6522ee",
   "metadata": {},
   "outputs": [],
   "source": [
    "# run dependency matcher\n",
    "matcher_pheno = utils.dependency_matcher(nlp, \"PHENOTYPE\", \"PHENOTYPE\")\n",
    "df_pheno = pd.read_csv(\"data/aspis_relations_pheno_updated.csv\")\n",
    "df_pheno = utils.get_df_dependencyMatcher(nlp, df_pheno, matcher_pheno, causal_verbs)\n",
    "# transform list elements to rows\n",
    "df_pheno = df_pheno.explode(['Verb Match','Cause Match', 'Effect Match'])\n",
    "# save df to csv\n",
    "df_pheno.to_csv(\"data/aspis_en_tox_pheno_pheno_updated.csv\")"
   ]
  },
  {
   "cell_type": "markdown",
   "metadata": {},
   "source": [
    "## Relationships between compounds and phenotypes"
   ]
  },
  {
   "cell_type": "code",
   "execution_count": null,
   "id": "3312f6f8-cd5b-45cc-ad4b-702bd1195c30",
   "metadata": {},
   "outputs": [],
   "source": [
    "matcher_chem = utils.dependency_matcher(nlp, \"COMPOUND\", \"PHENOTYPE\")\n",
    "df_chem = pd.read_csv(\"data/aspis_relations_chem_updated.csv\")\n",
    "df_chem = utils.get_df_dependencyMatcher(nlp, df_chem, matcher_chem, causal_verbs)\n",
    "# transform list elements to rows\n",
    "df_chem = df_chem.explode(['Verb Match','Cause Match', 'Effect Match'])\n",
    "# save df to csv\n",
    "df_chem.to_csv(\"data/aspis_en_tox_compound_pheno_updated.csv\")"
   ]
  },
  {
   "cell_type": "code",
   "execution_count": null,
   "id": "2329583b-f86a-4f23-b8ec-f0b06bb5b8b6",
   "metadata": {},
   "outputs": [],
   "source": [
    "# Take only sentences with a match \n",
    "df_pheno = pd.read_csv(\"aspis_en_tox_pheno_pheno_updated.csv\")\n",
    "df_pheno = pd.DataFrame(df_pheno.loc[df_pheno['Has Match'] == True])\n",
    "# Remove identical phenotypes\n",
    "df_pheno = pd.DataFrame(df_pheno.loc[df_pheno['Cause Match'] != df_pheno['Effect Match']])\n",
    "df_pheno.to_csv(\"aspis_en_tox_pheno_match_updated.csv\")\n",
    "\n",
    "df_chem = pd.read_csv(\"aspis_en_tox_compound_pheno_updated.csv\")\n",
    "df_chem = pd.DataFrame(df_chem.loc[df_chem['Has Match'] == True])\n",
    "# Remove identical phenotypes\n",
    "df_pheno = pd.DataFrame(df_chem.loc[df_chem['Cause Match'] != df_chem['Effect Match']])\n",
    "df_chem.to_csv(\"aspis_en_tox_compound_match_updated.csv\")"
   ]
  },
  {
   "cell_type": "code",
   "execution_count": 19,
   "metadata": {},
   "outputs": [
    {
     "data": {
      "text/html": [
       "<div>\n",
       "<style scoped>\n",
       "    .dataframe tbody tr th:only-of-type {\n",
       "        vertical-align: middle;\n",
       "    }\n",
       "\n",
       "    .dataframe tbody tr th {\n",
       "        vertical-align: top;\n",
       "    }\n",
       "\n",
       "    .dataframe thead th {\n",
       "        text-align: right;\n",
       "    }\n",
       "</style>\n",
       "<table border=\"1\" class=\"dataframe\">\n",
       "  <thead>\n",
       "    <tr style=\"text-align: right;\">\n",
       "      <th></th>\n",
       "      <th>Pmid</th>\n",
       "      <th>Sentences</th>\n",
       "      <th>PHENOTYPE</th>\n",
       "      <th>COMPOUND</th>\n",
       "      <th>Has Match</th>\n",
       "      <th>Cause Match</th>\n",
       "      <th>Effect Match</th>\n",
       "      <th>Verb Match</th>\n",
       "    </tr>\n",
       "  </thead>\n",
       "  <tbody>\n",
       "    <tr>\n",
       "      <th>0</th>\n",
       "      <td>35806386</td>\n",
       "      <td>Interestingly,  only the combination of VIC + ...</td>\n",
       "      <td>['cytotoxicity', 'less cytotoxicity']</td>\n",
       "      <td>['VIC', 'rifabutin', 'VIC', 'rifampin', 'VIC',...</td>\n",
       "      <td>True</td>\n",
       "      <td>VIC</td>\n",
       "      <td>Cytotoxicity</td>\n",
       "      <td>induced</td>\n",
       "    </tr>\n",
       "    <tr>\n",
       "      <th>1</th>\n",
       "      <td>35806386</td>\n",
       "      <td>Interestingly,  only the combination of VIC + ...</td>\n",
       "      <td>['cytotoxicity', 'less cytotoxicity']</td>\n",
       "      <td>['VIC', 'rifabutin', 'VIC', 'rifampin', 'VIC',...</td>\n",
       "      <td>True</td>\n",
       "      <td>VIC</td>\n",
       "      <td>Less cytotoxicity</td>\n",
       "      <td>induced</td>\n",
       "    </tr>\n",
       "    <tr>\n",
       "      <th>2</th>\n",
       "      <td>35806386</td>\n",
       "      <td>Interestingly,  only the combination of VIC + ...</td>\n",
       "      <td>['cytotoxicity', 'less cytotoxicity']</td>\n",
       "      <td>['VIC', 'rifabutin', 'VIC', 'rifampin', 'VIC',...</td>\n",
       "      <td>True</td>\n",
       "      <td>Rifabutin</td>\n",
       "      <td>Cytotoxicity</td>\n",
       "      <td>induced</td>\n",
       "    </tr>\n",
       "    <tr>\n",
       "      <th>3</th>\n",
       "      <td>35806386</td>\n",
       "      <td>Interestingly,  only the combination of VIC + ...</td>\n",
       "      <td>['cytotoxicity', 'less cytotoxicity']</td>\n",
       "      <td>['VIC', 'rifabutin', 'VIC', 'rifampin', 'VIC',...</td>\n",
       "      <td>True</td>\n",
       "      <td>Rifabutin</td>\n",
       "      <td>Less cytotoxicity</td>\n",
       "      <td>induced</td>\n",
       "    </tr>\n",
       "    <tr>\n",
       "      <th>4</th>\n",
       "      <td>35806386</td>\n",
       "      <td>Interestingly,  only the combination of VIC + ...</td>\n",
       "      <td>['cytotoxicity', 'less cytotoxicity']</td>\n",
       "      <td>['VIC', 'rifabutin', 'VIC', 'rifampin', 'VIC',...</td>\n",
       "      <td>True</td>\n",
       "      <td>VIC</td>\n",
       "      <td>Cytotoxicity</td>\n",
       "      <td>induced</td>\n",
       "    </tr>\n",
       "  </tbody>\n",
       "</table>\n",
       "</div>"
      ],
      "text/plain": [
       "       Pmid                                          Sentences  \\\n",
       "0  35806386  Interestingly,  only the combination of VIC + ...   \n",
       "1  35806386  Interestingly,  only the combination of VIC + ...   \n",
       "2  35806386  Interestingly,  only the combination of VIC + ...   \n",
       "3  35806386  Interestingly,  only the combination of VIC + ...   \n",
       "4  35806386  Interestingly,  only the combination of VIC + ...   \n",
       "\n",
       "                               PHENOTYPE  \\\n",
       "0  ['cytotoxicity', 'less cytotoxicity']   \n",
       "1  ['cytotoxicity', 'less cytotoxicity']   \n",
       "2  ['cytotoxicity', 'less cytotoxicity']   \n",
       "3  ['cytotoxicity', 'less cytotoxicity']   \n",
       "4  ['cytotoxicity', 'less cytotoxicity']   \n",
       "\n",
       "                                            COMPOUND  Has Match Cause Match  \\\n",
       "0  ['VIC', 'rifabutin', 'VIC', 'rifampin', 'VIC',...       True         VIC   \n",
       "1  ['VIC', 'rifabutin', 'VIC', 'rifampin', 'VIC',...       True         VIC   \n",
       "2  ['VIC', 'rifabutin', 'VIC', 'rifampin', 'VIC',...       True   Rifabutin   \n",
       "3  ['VIC', 'rifabutin', 'VIC', 'rifampin', 'VIC',...       True   Rifabutin   \n",
       "4  ['VIC', 'rifabutin', 'VIC', 'rifampin', 'VIC',...       True         VIC   \n",
       "\n",
       "        Effect Match Verb Match  \n",
       "0       Cytotoxicity    induced  \n",
       "1  Less cytotoxicity    induced  \n",
       "2       Cytotoxicity    induced  \n",
       "3  Less cytotoxicity    induced  \n",
       "4       Cytotoxicity    induced  "
      ]
     },
     "execution_count": 19,
     "metadata": {},
     "output_type": "execute_result"
    }
   ],
   "source": [
    "#df_chem = pd.read_csv(\"../data/aspis_en_tox_compound_match_updated.csv\")\n",
    "#df_pheno = pd.read_csv(\"../data/aspis_en_tox_pheno_match_updated.csv\")\n",
    "\n",
    "def capfirst(s):\n",
    "    #capitalizes first letter and leaves others as is\n",
    "    return s[:1].upper() + s[1:]\n",
    "\n",
    "df_chem[\"Cause Match\"] = df_chem[\"Cause Match\"].apply(capfirst)\n",
    "df_chem[\"Effect Match\"] = df_chem[\"Effect Match\"].apply(capfirst)\n",
    "df_pheno[\"Cause Match\"] = df_pheno[\"Cause Match\"].apply(capfirst)\n",
    "df_pheno[\"Effect Match\"] = df_pheno[\"Effect Match\"].apply(capfirst)\n",
    "\n",
    "df_chem.to_csv(\"../data/aspis_en_tox_compound_match_updated_cap.csv\")\n",
    "df_pheno.to_csv(\"../data/aspis_en_tox_pheno_match_updated_cap.csv\")\n",
    "\n"
   ]
  },
  {
   "cell_type": "markdown",
   "id": "13c38df6-74f0-4562-8305-ffb9c7867f39",
   "metadata": {},
   "source": [
    "# Load data to neo4j"
   ]
  },
  {
   "cell_type": "code",
   "execution_count": null,
   "id": "3fee7130-832f-4ae8-9d8a-2b91ee875276",
   "metadata": {},
   "outputs": [],
   "source": [
    "def create_rel_neo4j_cp(row, cause, effect):\n",
    "    # Verify that nodes and relationships do not exist, otherwise create them (MERGE)\n",
    "    cqlCreate = \"\"\"MERGE (n1:%s { name: \"%s\"})\n",
    "    MERGE (n2:%s { name: \"%s\"})\n",
    "    MERGE (n1)-[:%s {PMID:%s}]-(n2)\"\"\" %(cause,row[\"Cause Match\"],effect,row[\"Effect Match\"],row[\"Verb Match\"],row[\"Pmid\"])\n",
    "    return cqlCreate\n",
    "\n",
    "def create_rel_neo4j_pp(row, cause, effect):\n",
    "    # Verify that nodes and relationships do not exist, otherwise create them (MERGE)\n",
    "    cqlCreate = \"\"\"MERGE (n1:%s {name: \"%s\"})\n",
    "    MERGE (n2:%s { name: \"%s\"})\n",
    "    MERGE (n1)-[:%s {PMID:%s}]-(n2)\"\"\" %(cause,row[\"Cause Match\"],effect,row[\"Effect Match\"],row[\"Verb Match\"],row[\"Pmid\"])\n",
    "    return cqlCreate\n"
   ]
  },
  {
   "cell_type": "code",
   "execution_count": null,
   "metadata": {},
   "outputs": [],
   "source": [
    "# import to personal neo4j instance, without factors\n",
    "from neo4j import GraphDatabase\n",
    "\n",
    "# Database Credentials\n",
    "uri = \"bolt://localhost:7687\" #url to local neo4j db\n",
    "userName = \"neo4j\"\n",
    "password = xx # add own password\n",
    "\n",
    "# Connect to the neo4j database server\n",
    "graphDB_Driver  = GraphDatabase.driver(uri, auth=(userName, password))"
   ]
  },
  {
   "cell_type": "code",
   "execution_count": null,
   "metadata": {},
   "outputs": [],
   "source": [
    "import pandas as pd\n",
    "compound_df = pd.read_csv(\"aspis_en_tox_compound_match_updated.csv\")\n",
    "pheno_df = pd.read_csv(\"aspis_en_tox_pheno_match_updated.csv\")\n",
    "\n",
    "# push to neo4j\n",
    "for index, row in compound_df.iterrows():\n",
    "    cql = create_rel_neo4j_cp(row, \"COMPOUND\", \"PHENOTYPE\")\n",
    "    with graphDB_Driver.session(database=\"aspisupdated\") as graphDB_Session:\n",
    "        graphDB_Session.run(cql)\n",
    "\n",
    "for index, row in pheno_df.iterrows():\n",
    "    cql = create_rel_neo4j_pp(row, \"PHENOTYPE\", \"PHENOTYPE\")\n",
    "    with graphDB_Driver.session(database=\"aspisupdated\") as graphDB_Session:\n",
    "        graphDB_Session.run(cql)"
   ]
  }
 ],
 "metadata": {
  "kernelspec": {
   "display_name": "Python 3.8.0 ('neo4j')",
   "language": "python",
   "name": "python3"
  },
  "language_info": {
   "codemirror_mode": {
    "name": "ipython",
    "version": 3
   },
   "file_extension": ".py",
   "mimetype": "text/x-python",
   "name": "python",
   "nbconvert_exporter": "python",
   "pygments_lexer": "ipython3",
   "version": "3.8.0"
  },
  "vscode": {
   "interpreter": {
    "hash": "9568dcf2ae80fe23a24d65c11accca08250fe6401cb4b2cda91811bfc4c2b32f"
   }
  }
 },
 "nbformat": 4,
 "nbformat_minor": 5
}
